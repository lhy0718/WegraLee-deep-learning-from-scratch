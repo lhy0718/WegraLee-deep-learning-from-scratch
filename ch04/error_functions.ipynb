{
 "cells": [
  {
   "cell_type": "markdown",
   "metadata": {},
   "source": [
    "## 오차 제곱 합 (Sum of Squared Error, SSE)\n",
    "\n",
    "$$ \\text{SSE} = \\frac{1}{2} \\sum_{i=1}^{n} (y_i - \\hat{y}_{i})^2 $$\n",
    "\n",
    "$y_i$ : 실제 값, $\\hat{y}_i$ : 예측 값\n"
   ]
  },
  {
   "cell_type": "code",
   "execution_count": null,
   "metadata": {},
   "outputs": [
    {
     "name": "stdout",
     "output_type": "stream",
     "text": [
      "0.09750000000000003\n",
      "0.5974999999999999\n"
     ]
    }
   ],
   "source": [
    "import numpy as np\n",
    "\n",
    "\n",
    "def sum_square_error(y, y_hat):\n",
    "    return sum((y - y_hat) ** 2) / 2\n",
    "\n",
    "\n",
    "y_hat = np.array([0, 0, 1, 0, 0, 0, 0, 0, 0, 0])  # 정답 레이블이 2 일때\n",
    "\n",
    "# 예시 softmax 결과 (2가 가장 높음)\n",
    "y = np.array([0.1, 0.05, 0.6, 0.0, 0.05, 0.1, 0.0, 0.1, 0.0, 0.0])\n",
    "print(sum_square_error(y, y_hat))  # 오차 (0에 가까움)\n",
    "\n",
    "# 예시 softmax 결과 (7이 가장 높음)\n",
    "y = np.array([0.1, 0.05, 0.1, 0.0, 0.05, 0.1, 0.0, 0.6, 0.0, 0.0])\n",
    "print(sum_square_error(y, y_hat))  # 오차 (아까보다 높음)"
   ]
  },
  {
   "cell_type": "markdown",
   "metadata": {},
   "source": [
    "## 교차 엔트로피 오차 (Cross Entropy Error, CEE)\n",
    "\n",
    "$$ \\text{CEE} = -\\sum_{i=1}^{n} y_i \\log(\\hat{y}_i) $$\n",
    "\n",
    "$y_i$ : 실제 값, $\\hat{y}_i$ : 예측 값\n"
   ]
  },
  {
   "cell_type": "code",
   "execution_count": 4,
   "metadata": {},
   "outputs": [
    {
     "name": "stdout",
     "output_type": "stream",
     "text": [
      "0.510825457099338\n",
      "2.302584092994546\n"
     ]
    }
   ],
   "source": [
    "import numpy as np\n",
    "\n",
    "\n",
    "def cross_entropy_error(y, y_hat):\n",
    "    delta = 1e-7  # log(0)을 방지하기 위해 아주 작은 값을 더해줌\n",
    "    return -np.sum(y * np.log(y_hat + delta))\n",
    "\n",
    "\n",
    "y = np.array([0, 0, 1, 0, 0, 0, 0, 0, 0, 0])  # 정답 레이블이 2 일때\n",
    "\n",
    "# softmax 결과 (2가 가장 높음)\n",
    "y_hat = np.array([0.1, 0.05, 0.6, 0.0, 0.05, 0.1, 0.0, 0.1, 0.0, 0.0])\n",
    "print(cross_entropy_error(y, y_hat))  # 오차 (0에 가까움)\n",
    "\n",
    "# softmax 결과 (7이 가장 높음)\n",
    "y_hat = np.array([0.1, 0.05, 0.1, 0.0, 0.05, 0.1, 0.0, 0.6, 0.0, 0.0])\n",
    "print(cross_entropy_error(y, y_hat))  # 오차 (아까보다 높음)"
   ]
  },
  {
   "cell_type": "markdown",
   "metadata": {},
   "source": [
    "## 미니배치 학습"
   ]
  },
  {
   "cell_type": "code",
   "execution_count": null,
   "metadata": {},
   "outputs": [],
   "source": [
    "import sys\n",
    "import os\n",
    "\n",
    "sys.path.append(os.pardir)  # 부모 디렉터리의 파일을 가져올 수 있도록 설정"
   ]
  },
  {
   "cell_type": "code",
   "execution_count": 7,
   "metadata": {},
   "outputs": [
    {
     "name": "stdout",
     "output_type": "stream",
     "text": [
      "(60000, 784)\n",
      "(60000, 10)\n"
     ]
    }
   ],
   "source": [
    "import numpy as np\n",
    "from dataset.mnist import load_mnist\n",
    "\n",
    "(x_train, t_train), (x_test, t_test) = load_mnist(normalize=True, one_hot_label=True)\n",
    "\n",
    "print(x_train.shape)  # (60000, 784)\n",
    "print(t_train.shape)  # (60000, 10)"
   ]
  },
  {
   "cell_type": "markdown",
   "metadata": {},
   "source": [
    "### 배치용 교차 엔트로피 구현"
   ]
  },
  {
   "cell_type": "code",
   "execution_count": null,
   "metadata": {},
   "outputs": [],
   "source": [
    "def cross_entropy_error(y, y_hat):\n",
    "    if y_hat.ndim == 1:\n",
    "        y_hat = y_hat.reshape(1, y_hat.size)\n",
    "        y = y.reshape(1, y.size)\n",
    "\n",
    "    batch_size = y_hat.shape[0]\n",
    "    return (\n",
    "        -np.sum(np.log(y_hat[np.arange(batch_size), y] + 1e-7)) / batch_size\n",
    "    )  # 정답 레이블에서 0인 원소는 교차 엔트로피 오차도 0이므로, 그 계산은 무시해도 좋다."
   ]
  }
 ],
 "metadata": {
  "kernelspec": {
   "display_name": "ml",
   "language": "python",
   "name": "python3"
  },
  "language_info": {
   "codemirror_mode": {
    "name": "ipython",
    "version": 3
   },
   "file_extension": ".py",
   "mimetype": "text/x-python",
   "name": "python",
   "nbconvert_exporter": "python",
   "pygments_lexer": "ipython3",
   "version": "3.10.14"
  }
 },
 "nbformat": 4,
 "nbformat_minor": 2
}
